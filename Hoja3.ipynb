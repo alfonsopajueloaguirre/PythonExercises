{
 "metadata": {
  "language_info": {
   "codemirror_mode": {
    "name": "ipython",
    "version": 3
   },
   "file_extension": ".py",
   "mimetype": "text/x-python",
   "name": "python",
   "nbconvert_exporter": "python",
   "pygments_lexer": "ipython3",
   "version": "3.8.0-final"
  },
  "orig_nbformat": 2,
  "kernelspec": {
   "name": "python3",
   "display_name": "Python 3.8.0 64-bit",
   "metadata": {
    "interpreter": {
     "hash": "66f2f3eaaab7e032b5de1d93b6de430c470d3bc497a0f4e47ef4a9beaac758cc"
    }
   }
  }
 },
 "nbformat": 4,
 "nbformat_minor": 2,
 "cells": [
  {
   "source": [
    "# Hoja 3"
   ],
   "cell_type": "markdown",
   "metadata": {}
  },
  {
   "source": [
    "1. Escribir un programa que pida al usuario una palabra y la muestre por pantalla 10 veces."
   ],
   "cell_type": "markdown",
   "metadata": {}
  },
  {
   "cell_type": "code",
   "execution_count": null,
   "metadata": {},
   "outputs": [],
   "source": [
    "def repetir():\n",
    "    palabra = input(\"Introduzca una palabra: \")\n",
    "    print((palabra + \"\\n\")*10)\n",
    "\n",
    "repetir()"
   ]
  },
  {
   "source": [
    "2. Escribir un programa que pregunte al usuario su edad y muestre por pantalla todos los años que ha cumplido (desde 1 hasta su edad)."
   ],
   "cell_type": "markdown",
   "metadata": {}
  },
  {
   "cell_type": "code",
   "execution_count": null,
   "metadata": {},
   "outputs": [],
   "source": [
    "def añosCumplidos():\n",
    "    edad = input(\"Introduzca su edad: \")\n",
    "    for i in range(1,int(edad)):\n",
    "        print(i)\n",
    "\n",
    "añosCumplidos()"
   ]
  },
  {
   "source": [
    "3. Escribir un programa que pida al usuario un número entero positivo y muestre por pantalla todos los números impares desde 1 hasta ese número separados por comas."
   ],
   "cell_type": "markdown",
   "metadata": {}
  },
  {
   "cell_type": "code",
   "execution_count": 15,
   "metadata": {},
   "outputs": [
    {
     "output_type": "stream",
     "name": "stdout",
     "text": [
      "1, 3, 5, 7, 9, "
     ]
    }
   ],
   "source": [
    "def impares():\n",
    "    numero = int(input(\"Introduzca un numero: \"))\n",
    "    for i in range(1,numero):\n",
    "        if (i%2!=0):\n",
    "            print(i, end=\", \")\n",
    "impares() "
   ]
  },
  {
   "source": [
    "4. Escribir un programa que pida al usuario un número entero positivo y muestre por pantalla la cuenta atrás desde ese número hasta cero separados por comas."
   ],
   "cell_type": "markdown",
   "metadata": {}
  },
  {
   "cell_type": "code",
   "execution_count": 14,
   "metadata": {},
   "outputs": [
    {
     "output_type": "stream",
     "name": "stdout",
     "text": [
      "10, 9, 8, 7, 6, 5, 4, 3, 2, 1, 0, "
     ]
    }
   ],
   "source": [
    "def cuenta_atras():\n",
    "    numero = int(input(\"Introduzca un numero: \"))\n",
    "    for i in range(numero, -1, -1):\n",
    "        print(i, end=\", \")\n",
    "\n",
    "cuenta_atras()"
   ]
  },
  {
   "source": [
    "6.Escribir un programa que pida al usuario un número entero y muestre por pantalla un triángulo rectángulo como el de más abajo, de altura el número introducido."
   ],
   "cell_type": "markdown",
   "metadata": {}
  },
  {
   "cell_type": "code",
   "execution_count": 17,
   "metadata": {},
   "outputs": [
    {
     "output_type": "stream",
     "name": "stdout",
     "text": [
      "\n*\n**\n***\n****\n"
     ]
    }
   ],
   "source": [
    "def triangulo():\n",
    "    c = \"*\"\n",
    "    altura = int(input(\"Introduzca la altura del triangulo: \"))\n",
    "    for i in range(altura+1):\n",
    "        print(c*i)\n",
    "\n",
    "triangulo()"
   ]
  },
  {
   "source": [
    "7. Escribir un programa que muestre por pantalla la tabla de multiplicar del 1 al 10."
   ],
   "cell_type": "markdown",
   "metadata": {}
  },
  {
   "cell_type": "code",
   "execution_count": 20,
   "metadata": {},
   "outputs": [
    {
     "output_type": "stream",
     "name": "stdout",
     "text": [
      "1 2 3 4 5 6 7 8 9 10 \n\n2 4 6 8 10 12 14 16 18 20 \n\n3 6 9 12 15 18 21 24 27 30 \n\n4 8 12 16 20 24 28 32 36 40 \n\n5 10 15 20 25 30 35 40 45 50 \n\n6 12 18 24 30 36 42 48 54 60 \n\n7 14 21 28 35 42 49 56 63 70 \n\n8 16 24 32 40 48 56 64 72 80 \n\n9 18 27 36 45 54 63 72 81 90 \n\n10 20 30 40 50 60 70 80 90 100 \n\n"
     ]
    }
   ],
   "source": [
    "def tabla():\n",
    "    for i in range(1,11):\n",
    "        for j in range(1,11):\n",
    "            print(i*j, end=\" \")\n",
    "\n",
    "        print(\"\\n\")\n",
    "\n",
    "tabla()"
   ]
  },
  {
   "source": [
    "8. Escribir un programa que pida al usuario un número entero y muestre por pantalla un triángulo rectángulo como el de más abajo. 1 3 1 5 3 1 7 5 3 1 9 7 5 3 1"
   ],
   "cell_type": "markdown",
   "metadata": {}
  },
  {
   "cell_type": "code",
   "execution_count": 24,
   "metadata": {},
   "outputs": [
    {
     "output_type": "stream",
     "name": "stdout",
     "text": [
      "1 \n3 1 \n5 3 1 \n7 5 3 1 \n9 7 5 3 1 \n"
     ]
    }
   ],
   "source": [
    "def triangulo_rect():\n",
    "    n = int(input(\"Introduzca la altura: \"))\n",
    "    for i in range(1,n+1,2):\n",
    "        for j in range(i,0,-2):\n",
    "            print(j, end=\" \")\n",
    "        print(\"\")\n",
    "\n",
    "triangulo_rect()"
   ]
  },
  {
   "source": [
    "9. Escribir un programa que almacene la cadena de caracteres contraseña en una variable, pregunte al usuario por la contraseña hasta que introduzca la contraseña correcta."
   ],
   "cell_type": "markdown",
   "metadata": {}
  },
  {
   "cell_type": "code",
   "execution_count": 26,
   "metadata": {},
   "outputs": [
    {
     "output_type": "stream",
     "name": "stdout",
     "text": [
      "Contraseña incorrecta\n",
      "Contraseña correcta\n"
     ]
    }
   ],
   "source": [
    "def contraseña():\n",
    "    quedarse = True\n",
    "    contraseña = \"contraseña\"\n",
    "    while quedarse:\n",
    "        entrada = input(\"Introduzca la contraseña: \")\n",
    "        if entrada == contraseña:\n",
    "            print(\"Contraseña correcta\")\n",
    "            quedarse = False\n",
    "        else:\n",
    "            print(\"Contraseña incorrecta\")\n",
    "\n",
    "contraseña()\n"
   ]
  },
  {
   "source": [
    "10. Escribir un programa que pida al usuario un número entero y muestre por pantalla si es un número primo o no."
   ],
   "cell_type": "markdown",
   "metadata": {}
  },
  {
   "source": [
    "def es_primo():\n",
    "    n = int(input(\"Introduzca el numero: \"))\n",
    "    i = 2\n",
    "    while n % i != 0:\n",
    "        i += 1\n",
    "    if (i == n):\n",
    "        print(str(n)+\" es primo\")\n",
    "    else:\n",
    "        print(str(n)+\" no es primo\")\n",
    "\n",
    "es_primo()\n"
   ],
   "cell_type": "code",
   "metadata": {},
   "execution_count": 29,
   "outputs": [
    {
     "output_type": "stream",
     "name": "stdout",
     "text": [
      "8 no es primo\n"
     ]
    }
   ]
  },
  {
   "cell_type": "code",
   "execution_count": null,
   "metadata": {},
   "outputs": [],
   "source": []
  }
 ]
}