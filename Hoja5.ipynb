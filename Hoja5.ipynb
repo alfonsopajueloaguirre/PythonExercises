{
 "metadata": {
  "language_info": {
   "codemirror_mode": {
    "name": "ipython",
    "version": 3
   },
   "file_extension": ".py",
   "mimetype": "text/x-python",
   "name": "python",
   "nbconvert_exporter": "python",
   "pygments_lexer": "ipython3",
   "version": "3.8.0-final"
  },
  "orig_nbformat": 2,
  "kernelspec": {
   "name": "python3",
   "display_name": "Python 3.8.0 64-bit",
   "metadata": {
    "interpreter": {
     "hash": "66f2f3eaaab7e032b5de1d93b6de430c470d3bc497a0f4e47ef4a9beaac758cc"
    }
   }
  }
 },
 "nbformat": 4,
 "nbformat_minor": 2,
 "cells": [
  {
   "source": [
    "# Hoja 5"
   ],
   "cell_type": "markdown",
   "metadata": {}
  },
  {
   "source": [
    "1. Escribir una función que muestre por pantalla el saludo ¡Hola amiga! cada vez que se la invoque."
   ],
   "cell_type": "markdown",
   "metadata": {}
  },
  {
   "cell_type": "code",
   "execution_count": 1,
   "metadata": {},
   "outputs": [
    {
     "output_type": "stream",
     "name": "stdout",
     "text": [
      "Hola amiga\nHola amiga\nHola amiga\n"
     ]
    }
   ],
   "source": [
    "def saludar():\n",
    "    print(\"Hola amiga\")\n",
    "    return\n",
    "\n",
    "saludar()\n",
    "saludar()\n",
    "saludar()"
   ]
  },
  {
   "source": [
    "2. Escribir una función a la que se le pase una cadena <nombre> y muestre por pantalla el saludo ¡hola nombre!."
   ],
   "cell_type": "markdown",
   "metadata": {}
  },
  {
   "cell_type": "code",
   "execution_count": 1,
   "metadata": {},
   "outputs": [
    {
     "output_type": "stream",
     "name": "stdout",
     "text": [
      "Hola Alfonso\n"
     ]
    }
   ],
   "source": [
    "def saludo(nombre):\n",
    "    print(\"Hola \" + nombre)\n",
    "    return\n",
    "\n",
    "saludo(\"Alfonso\")"
   ]
  },
  {
   "source": [
    "3. Escribir una función que reciba un número entero positivo y devuelva su factorial."
   ],
   "cell_type": "markdown",
   "metadata": {}
  },
  {
   "cell_type": "code",
   "execution_count": 4,
   "metadata": {},
   "outputs": [
    {
     "output_type": "stream",
     "name": "stdout",
     "text": [
      "24\n"
     ]
    }
   ],
   "source": [
    "def factorial(n):\n",
    "    resultado = 1\n",
    "    for i in range(n):\n",
    "        resultado += resultado * i\n",
    "    return resultado\n",
    "\n",
    "print(factorial(4))\n"
   ]
  },
  {
   "source": [
    "4. Escribir una función que calcule el total de una factura tras aplicarle el IVA. La función debe recibir la cantidad sin IVA y el porcentaje de IVA a aplicar, y devolver el total de la factura. Si se invoca la función sin pasarle el porcentaje de IVA, deberá aplicar un 21%."
   ],
   "cell_type": "markdown",
   "metadata": {}
  },
  {
   "cell_type": "code",
   "execution_count": null,
   "metadata": {},
   "outputs": [],
   "source": []
  }
 ]
}