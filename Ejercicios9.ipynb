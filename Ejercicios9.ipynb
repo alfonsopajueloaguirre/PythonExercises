{
 "metadata": {
  "language_info": {
   "codemirror_mode": {
    "name": "ipython",
    "version": 3
   },
   "file_extension": ".py",
   "mimetype": "text/x-python",
   "name": "python",
   "nbconvert_exporter": "python",
   "pygments_lexer": "ipython3",
   "version": "3.8.6-final"
  },
  "orig_nbformat": 2,
  "kernelspec": {
   "name": "python3",
   "display_name": "Python 3.8.6 64-bit",
   "metadata": {
    "interpreter": {
     "hash": "43c5a58388dc1a90ccdab80f9d1885ae2bc4594d108887f3c3ac1174c1d46e34"
    }
   }
  }
 },
 "nbformat": 4,
 "nbformat_minor": 2,
 "cells": [
  {
   "source": [
    "# Hoja de Ejercicios 9"
   ],
   "cell_type": "markdown",
   "metadata": {}
  },
  {
   "source": [
    "1. Escribir una función que aplique un descuento a un precio y otra que aplique el\n",
    "IVA a un precio. Escribir una tercera función que reciba un diccionario con los\n",
    "precios y porcentajes de una cesta de la compra, y una de las funciones\n",
    "anteriores, y utilice la función pasada para aplicar los descuentos o el IVA a los\n",
    "productos de la cesta y devolver el precio final de la cesta."
   ],
   "cell_type": "markdown",
   "metadata": {}
  },
  {
   "cell_type": "code",
   "execution_count": 16,
   "metadata": {},
   "outputs": [
    {
     "output_type": "stream",
     "name": "stdout",
     "text": [
      "1180.5\n919.5\n"
     ]
    }
   ],
   "source": [
    "def descuento(descuento, objeto):\n",
    "    return(objeto - objeto * descuento/100)\n",
    "\n",
    "def iva(iva, objeto):\n",
    "    return(objeto + objeto * iva/100)\n",
    "\n",
    "def compra(cesta, funcion):\n",
    "    if (funcion == 'iva'):\n",
    "        pagar = 0\n",
    "        for precio, porcentaje in cesta.items(): \n",
    "            pagar += iva(porcentaje, precio)     \n",
    "        return pagar\n",
    "\n",
    "    elif (funcion == 'descuento'):\n",
    "        pagar = 0\n",
    "        for precio, porcentaje in cesta.items(): \n",
    "            pagar += descuento(porcentaje, precio)  \n",
    "        return pagar\n",
    "    else:\n",
    "        print(\"Funcion no valida\")\n",
    "\n",
    "def main():\n",
    "    cesta = {1000 : 12, 50 : 21} \n",
    "    print(compra(cesta, 'iva'))\n",
    "    print(compra(cesta, 'descuento'))\n",
    "\n",
    "\n",
    "main()"
   ]
  },
  {
   "cell_type": "code",
   "execution_count": 14,
   "metadata": {},
   "outputs": [
    {
     "output_type": "stream",
     "name": "stdout",
     "text": [
      "El precio de la compra tras aplicar los descuentos es:  1349.0\nEl precio de la compra tras aplicar el IVA es:  1851.0\n"
     ]
    }
   ],
   "source": [
    "def apply_discount(price, discount):\n",
    "    return price - price * discount / 100\n",
    "    \n",
    "def apply_IVA(price, percentage):\n",
    "precio final tras aplicar el IVA.\n",
    "    return price + price * percentage / 100\n",
    "\n",
    "def price_basket(basket, function):\n",
    "    total = 0\n",
    "    for price, discount in basket.items():\n",
    "        total += function(price, discount)\n",
    "    return total\n",
    "\n",
    "print('El precio de la compra tras aplicar los descuentos es: ', price_basket({1000:20, 500:10, 100:1}, apply_discount))\n",
    "print('El precio de la compra tras aplicar el IVA es: ', price_basket({1000:20, 500:10, 100:1}, apply_IVA))"
   ]
  },
  {
   "source": [
    "2. Escribir una función que simule una calculadora científica que permita calcular\n",
    "el seno, coseno, tangente, exponencial y logaritmo neperiano. La función\n",
    "preguntará al usuario el valor y la función a aplicar, y mostrará por pantalla una\n",
    "tabla con los enteros de 1 al valor introducido y el resultado de aplicar la función\n",
    "a esos enteros."
   ],
   "cell_type": "markdown",
   "metadata": {}
  },
  {
   "cell_type": "code",
   "execution_count": null,
   "metadata": {},
   "outputs": [],
   "source": [
    "from math import sin, cos, tan, exp, log\n",
    "\n",
    "def apply_function(f, n):\n",
    "    functions = {'sin':sin, 'cos':cos, 'tan':tan, 'exp':exp, 'log':log}\n",
    "    result = {}\n",
    "    for i in range(1, n+1):\n",
    "        result[i] = functions[f](i)\n",
    "    return result\n",
    "\n",
    "def calculator():\n",
    "    f = input('Introduce la función a aplicar (sin, cos, tan, exp, log): ')\n",
    "    n = int(input('Introduce un entero positivo: '))\n",
    "    for i, j in apply_function(f, n).items():\n",
    "        print (i, '\\t', j)\n",
    "    return\n",
    "\n",
    "calculator()"
   ]
  },
  {
   "source": [
    "3. Escribir una función que reciba otra función y una lista, y devuelva otra lista con\n",
    "el resultado de aplicar la función dada a cada uno de los elementos de la lista.\n"
   ],
   "cell_type": "markdown",
   "metadata": {}
  },
  {
   "cell_type": "code",
   "execution_count": 31,
   "metadata": {},
   "outputs": [
    {
     "output_type": "execute_result",
     "data": {
      "text/plain": [
       "[2, 3, 4, 5, 6, 7]"
      ]
     },
     "metadata": {},
     "execution_count": 31
    }
   ],
   "source": [
    "def suma1(numero):\n",
    "    return numero + 1\n",
    "\n",
    "def function(f, lista):\n",
    "    l = list()\n",
    "    for i in lista:\n",
    "        l.append(f(i))\n",
    "    return l\n",
    "\n",
    "function(suma1,[1,2,3,4,5,6])"
   ]
  },
  {
   "source": [
    "4. Escribir una función que reciba otra función booleana y una lista, y devuelva otra\n",
    "lista con los elementos de la lista que devuelvan True al aplicarles la función\n",
    "booleana.\n"
   ],
   "cell_type": "markdown",
   "metadata": {}
  },
  {
   "cell_type": "code",
   "execution_count": 36,
   "metadata": {},
   "outputs": [
    {
     "output_type": "execute_result",
     "data": {
      "text/plain": [
       "[2, 4, 6]"
      ]
     },
     "metadata": {},
     "execution_count": 36
    }
   ],
   "source": [
    "def boolean(numero):\n",
    "    return numero % 2 == 0\n",
    "\n",
    "def function(f, lista):\n",
    "    l = list()\n",
    "    for i in lista:\n",
    "        if f(i):\n",
    "            l.append(i)\n",
    "    return l\n",
    "\n",
    "function(boolean,[1,2,3,4,5,6])"
   ]
  },
  {
   "source": [
    "5. Escribir una función que reciba una frase y devuelva un diccionario con las\n",
    "palabras que contiene y su longitud."
   ],
   "cell_type": "markdown",
   "metadata": {}
  },
  {
   "cell_type": "code",
   "execution_count": 37,
   "metadata": {},
   "outputs": [
    {
     "output_type": "execute_result",
     "data": {
      "text/plain": [
       "{'Hola': 4, 'mu': 2, 'buenos': 6, 'dias': 4, 'chaval': 6}"
      ]
     },
     "metadata": {},
     "execution_count": 37
    }
   ],
   "source": [
    "def contador(frase):\n",
    "    frase_cortada = frase.split()\n",
    "    dic = dict()\n",
    "    for i in frase_cortada:\n",
    "        dic[i] = len(i)\n",
    "    return dic\n",
    "frase = input(\"frase\")\n",
    "contador(frase)\n"
   ]
  },
  {
   "cell_type": "code",
   "execution_count": 38,
   "metadata": {},
   "outputs": [
    {
     "output_type": "stream",
     "name": "stdout",
     "text": [
      "{'Welcome': 7, 'to': 2, 'Python': 6}\n"
     ]
    }
   ],
   "source": [
    "def length_words(sentence):\n",
    "    return {word:len(word) for word in sentence.split()}\n",
    "\n",
    "print(length_words('Welcome to Python'))"
   ]
  },
  {
   "source": [
    "6. Escribir una función reciba una lista de notas en formato numérico y devuelva la\n",
    "lista de calificaciones (SS, AP, NT, SB, MH) correspondientes a esas notas.\n"
   ],
   "cell_type": "markdown",
   "metadata": {}
  },
  {
   "cell_type": "code",
   "execution_count": 39,
   "metadata": {},
   "outputs": [
    {
     "output_type": "execute_result",
     "data": {
      "text/plain": [
       "['AP', 'AP', 'SS', 'NT', 'SS', 'SB', 'MH']"
      ]
     },
     "metadata": {},
     "execution_count": 39
    }
   ],
   "source": [
    "def notas(lista):\n",
    "    l = list()\n",
    "    for i in lista:\n",
    "        if i >=0 and i <= 4.9:\n",
    "            nota = 'SS'\n",
    "            l.append(nota)\n",
    "        elif i >= 5 and i<= 6.9:\n",
    "            nota = 'AP'\n",
    "            l.append(nota)\n",
    "        elif i >= 7 and i <= 8.9:\n",
    "            nota = 'NT'\n",
    "            l.append(nota)\n",
    "        elif i >= 8 and i <= 9.5:\n",
    "            nota = 'SB'\n",
    "            l.append(nota)\n",
    "        elif i > 9.5:\n",
    "            nota = 'MH'\n",
    "            l.append(nota)\n",
    "    return l\n",
    "notas([5,6,4,8,3,9,10])"
   ]
  },
  {
   "cell_type": "code",
   "execution_count": null,
   "metadata": {},
   "outputs": [],
   "source": [
    "def grade(score):\n",
    "    if score < 5:\n",
    "        return 'SS'\n",
    "    elif score < 7:\n",
    "        return 'AP'\n",
    "    elif score < 9:\n",
    "        return 'NT'\n",
    "    elif score < 10:\n",
    "        return 'SB'\n",
    "    else:\n",
    "        return 'MH'\n",
    "\n",
    "def apply_grade(scores):\n",
    "    return list(map(grade, scores))\n",
    "    \n",
    "print(apply_grade([6.5, 5, 3.4, 8.2, 2.1, 9.7, 10]))"
   ]
  },
  {
   "source": [
    "7. Escribir una función reciba un diccionario con las asignaturas y las notas en\n",
    "formato numérico de un alumno y devuelva otro diccionario con las asignaturas\n",
    "en mayúsculas y las calificaciones (SS, AP, NT, SB, MH) correspondientes a las\n",
    "notas."
   ],
   "cell_type": "markdown",
   "metadata": {}
  },
  {
   "cell_type": "code",
   "execution_count": 41,
   "metadata": {},
   "outputs": [
    {
     "output_type": "execute_result",
     "data": {
      "text/plain": [
       "{'LENGUA': 'AP', 'MATEMATICAS': 'SB', 'FISICA': 'SS'}"
      ]
     },
     "metadata": {},
     "execution_count": 41
    }
   ],
   "source": [
    "import string\n",
    "def grade(score):\n",
    "    if score < 5:\n",
    "        return 'SS'\n",
    "    elif score < 7:\n",
    "        return 'AP'\n",
    "    elif score < 9:\n",
    "        return 'NT'\n",
    "    elif score < 10:\n",
    "        return 'SB'\n",
    "    else:\n",
    "        return 'MH'\n",
    "\n",
    "def notas(asignaturas):\n",
    "    resultado = dict()\n",
    "    for asig, calificaciones in asignaturas.items():\n",
    "        asignatura = asig.upper()\n",
    "        nota = grade(calificaciones)\n",
    "        resultado[asignatura] = nota\n",
    "    return resultado\n",
    "\n",
    "notas({'Lengua':5,'Matematicas':9,'Fisica':0})\n",
    "\n"
   ]
  },
  {
   "cell_type": "code",
   "execution_count": null,
   "metadata": {},
   "outputs": [],
   "source": [
    "def grade(score):\n",
    "    if score < 5:\n",
    "        return 'SS'\n",
    "    elif score < 7:\n",
    "        return 'AP'\n",
    "    elif score < 9:\n",
    "        return 'NT'\n",
    "    elif score < 10:\n",
    "        return 'SB'\n",
    "    else:\n",
    "        return 'MH'\n",
    "\n",
    "def apply_grade(scores):\n",
    "    subjects = map(str.upper, scores.keys())\n",
    "    grades = map(grade, scores.values())\n",
    "    return dict(zip(subjects, grades))\n",
    "\n",
    "print(apply_grade({'Matemáticas':6.5, 'Física':5, 'Química':3.4, 'Economía':8.2, 'Historia':9.7, 'Programación':10}))"
   ]
  },
  {
   "cell_type": "code",
   "execution_count": null,
   "metadata": {},
   "outputs": [],
   "source": [
    "8. Escribir una función reciba un diccionario con las asignaturas y las notas en\n",
    "formato numérico de un alumno y devuelva otro diccionario con las asignaturas\n",
    "en mayúsculas y las calificaciones correspondientes a las asignaturas aprobadas."
   ]
  },
  {
   "cell_type": "code",
   "execution_count": 45,
   "metadata": {},
   "outputs": [
    {
     "output_type": "stream",
     "name": "stdout",
     "text": [
      "{'MATEMÁTICAS': 'AP', 'FÍSICA': 'AP', 'ECONOMÍA': 'NT', 'HISTORIA': 'SB', 'PROGRAMACIÓN': 'MH'}\n"
     ]
    }
   ],
   "source": [
    "def grade(score):\n",
    "    if score < 5:\n",
    "        return 'SS'\n",
    "    elif score < 7:\n",
    "        return 'AP'\n",
    "    elif score < 9:\n",
    "        return 'NT'\n",
    "    elif score < 10:\n",
    "        return 'SB'\n",
    "    else:\n",
    "        return 'MH'\n",
    "\n",
    "def passed_subject(subject):\n",
    "    return (subject[1] >= 5)\n",
    "\n",
    "def apply_grade(scores):\n",
    "    passed = dict(filter(passed_subject, scores.items()))\n",
    "    subjects = map(str.upper, passed.keys())\n",
    "    grades = map(grade, passed.values())\n",
    "    return dict(zip(subjects, grades))\n",
    "\n",
    "print(apply_grade({'Matemáticas':6.5, 'Física':5, 'Química':3.4, 'Economía':8.2, 'Historia':9.7, 'Programación':10}))"
   ]
  },
  {
   "cell_type": "code",
   "execution_count": null,
   "metadata": {},
   "outputs": [],
   "source": [
    "9.Construir una función que permita hacer búsqueda de inmuebles en función de\n",
    "un presupuesto dado. La función recibirá como entrada la lista de inmuebles y\n",
    "un precio, y devolverá otra lista con los inmuebles cuyo precio sea menor o igual\n",
    "que el dado. Los inmuebles de la lista que se devuelva deben incorporar un\n",
    "nuevo par a cada diccionario con el precio del inmueble, donde el precio de un\n",
    "inmueble se calcula con las siguientes fórmulas, en función de la zona:"
   ]
  },
  {
   "cell_type": "code",
   "execution_count": null,
   "metadata": {},
   "outputs": [],
   "source": [
    "def precio(casa):\n",
    "    if casa.zona == 'A':\n",
    "        return precio = (casa.metros * 1000 + casa.habitaciones * 5000 + casa.garaje * 15000) * (1-casa.antiguedad/100)\n",
    "    else:\n",
    "        return precio = (casa.metros * 1000 + casa.habitaciones * 5000 + casa.garaje * 15000) * (1-casa.antiguedad/100) * 1.5\n",
    "    \n"
   ]
  }
 ]
}