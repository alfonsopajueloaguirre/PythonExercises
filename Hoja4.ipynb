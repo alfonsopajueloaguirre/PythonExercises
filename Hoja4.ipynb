{
 "metadata": {
  "language_info": {
   "codemirror_mode": {
    "name": "ipython",
    "version": 3
   },
   "file_extension": ".py",
   "mimetype": "text/x-python",
   "name": "python",
   "nbconvert_exporter": "python",
   "pygments_lexer": "ipython3",
   "version": "3.8.0-final"
  },
  "orig_nbformat": 2,
  "kernelspec": {
   "name": "python3",
   "display_name": "Python 3.8.0 64-bit",
   "metadata": {
    "interpreter": {
     "hash": "66f2f3eaaab7e032b5de1d93b6de430c470d3bc497a0f4e47ef4a9beaac758cc"
    }
   }
  }
 },
 "nbformat": 4,
 "nbformat_minor": 2,
 "cells": [
  {
   "source": [
    "# Hoja 4"
   ],
   "cell_type": "markdown",
   "metadata": {}
  },
  {
   "source": [
    "1. Escribir un programa que almacene las asignaturas de un curso (por ejemplo Matemáticas, Física, Química, Historia y Lengua) en una lista y la muestre por pantalla."
   ],
   "cell_type": "markdown",
   "metadata": {}
  },
  {
   "cell_type": "code",
   "execution_count": null,
   "metadata": {},
   "outputs": [],
   "source": [
    "asignaturas = [\"Matematicas\", \"Fisica\", \"Quimica\", \"Historia\", \"Lengua\"]\n",
    "print(asignaturas)"
   ]
  },
  {
   "source": [
    "2. Escribir un programa que almacene las asignaturas de un curso (por ejemplo Matemáticas, Física, Química, Historia y Lengua) en una lista y la muestre por pantalla el mensaje Yo estudio <asignatura>, donde <asignatura> es cada una de las asignaturas de la lista.."
   ],
   "cell_type": "markdown",
   "metadata": {}
  },
  {
   "cell_type": "code",
   "execution_count": 2,
   "metadata": {},
   "outputs": [
    {
     "output_type": "stream",
     "name": "stdout",
     "text": [
      "Yo estudio Matematicas\nYo estudio Fisica\nYo estudio Quimica\nYo estudio Historia\nYo estudio Lengua\n"
     ]
    }
   ],
   "source": [
    "asignaturas = [\"Matematicas\", \"Fisica\", \"Quimica\", \"Historia\", \"Lengua\"]\n",
    "for i in asignaturas:\n",
    "    print(\"Yo estudio \" + i)"
   ]
  },
  {
   "source": [
    "3. Escribir un programa que almacene las asignaturas de un curso (por ejemplo Matemáticas, Física, Química, Historia y Lengua) en una lista, pregunte al usuario la nota que ha sacado en cada asignatura, y después las muestre por pantalla con el mensaje En <asignatura> has sacado <nota> donde <asignatura> es cada una des las asignaturas de la lista y <nota> cada una de las correspondientes notas introducidas por el usuario."
   ],
   "cell_type": "markdown",
   "metadata": {}
  },
  {
   "cell_type": "code",
   "execution_count": 3,
   "metadata": {},
   "outputs": [
    {
     "output_type": "stream",
     "name": "stdout",
     "text": [
      "Ha sacado en Matematicasla siguiente nota: 7\nHa sacado en Fisicala siguiente nota: 8\nHa sacado en Quimicala siguiente nota: 6\nHa sacado en Historiala siguiente nota: 5\nHa sacado en Lenguala siguiente nota: 4\n"
     ]
    }
   ],
   "source": [
    "asignaturas = [\"Matematicas\", \"Fisica\", \"Quimica\", \"Historia\", \"Lengua\"]\n",
    "notas = []\n",
    "for i in asignaturas:\n",
    "    nota = input(\"Introduzca su nota en \" + i + \":\")\n",
    "    notas.append(nota)\n",
    "for i in range(len(asignaturas)):\n",
    "    print(\"Ha sacado en \" + asignaturas[i] + \" la siguiente nota: \" + notas[i])\n"
   ]
  },
  {
   "source": [
    "4. Escribir un programa que pregunte al usuario los números ganadores de la lotería primitiva, los almacene en una lista y los muestre por pantalla ordenados de menor a mayor."
   ],
   "cell_type": "markdown",
   "metadata": {}
  },
  {
   "cell_type": "code",
   "execution_count": 4,
   "metadata": {},
   "outputs": [
    {
     "output_type": "stream",
     "name": "stdout",
     "text": [
      "[26, 34, 36, 53, 79, 85]\n"
     ]
    }
   ],
   "source": [
    "ganadores = []\n",
    "for i in range(6):\n",
    "    n = int(input(\"Introduzca numero ganador: \"))\n",
    "    ganadores.append(n)\n",
    "ganadores.sort()\n",
    "\n",
    "print(\"Estos son los ganadores: \" + str(ganadores))\n"
   ]
  },
  {
   "source": [
    "5. Escribir un programa que almacene en una lista los números del 1 al 10 y los muestre por pantalla en orden inverso separados por comas"
   ],
   "cell_type": "markdown",
   "metadata": {}
  },
  {
   "cell_type": "code",
   "execution_count": 6,
   "metadata": {},
   "outputs": [
    {
     "output_type": "stream",
     "name": "stdout",
     "text": [
      "10, 9, 8, 7, 6, 5, 4, 3, 2, 1, "
     ]
    }
   ],
   "source": [
    "numbers = [1, 2, 3, 4, 5, 6, 7, 8, 9, 10]\n",
    "numbers.reverse()\n",
    "for number in numbers:\n",
    "    print(number, end=\", \")"
   ]
  },
  {
   "source": [
    "6. Escribir un programa que pida al usuario una palabra y muestre por pantalla el número de veces que contiene cada vocal."
   ],
   "cell_type": "markdown",
   "metadata": {}
  },
  {
   "cell_type": "code",
   "execution_count": 10,
   "metadata": {},
   "outputs": [
    {
     "output_type": "stream",
     "name": "stdout",
     "text": [
      "La vocal o aparece 2 veces\nLa vocal u aparece 0 veces\nLa vocal e aparece 0 veces\nLa vocal a aparece 1 veces\nLa vocal i aparece 0 veces\n"
     ]
    }
   ],
   "source": [
    "palabra = input(\"Introduzca una palabra: \")\n",
    "vocales = {\"a\", \"e\", \"i\", \"o\", \"u\"}\n",
    "for vocal in vocales:\n",
    "    veces = 0\n",
    "    for letra in palabra:\n",
    "        if letra == vocal:\n",
    "            veces += 1\n",
    "    print(\"La vocal \" + vocal + \" aparece \" + str(veces) + \" veces\")\n",
    "    "
   ]
  },
  {
   "source": [
    "7. Escribir un programa que almacene el abecedario en una lista, elimine de la lista las letras que ocupen posiciones múltiplos de 3, y muestre por pantalla la lista resultante."
   ],
   "cell_type": "markdown",
   "metadata": {}
  },
  {
   "cell_type": "code",
   "execution_count": 18,
   "metadata": {},
   "outputs": [
    {
     "output_type": "stream",
     "name": "stdout",
     "text": [
      "['a', 'b', 'd', 'e', 'g', 'h', 'j', 'k', 'm', 'n', 'o', 'p', 'r', 's', 'u', 'v', 'x', 'y']\n"
     ]
    }
   ],
   "source": [
    "abecedario = ['a', 'b', 'c', 'd', 'e', 'f', 'g', 'h', 'i', 'j', 'k', 'l', 'm', 'n', 'ñ', 'o', 'p', 'q', 'r', 's', 't', 'u', 'v', 'w', 'x', 'y', 'z']\n",
    "for i in range(len(abecedario), 1, -1):\n",
    "    if i % 3 == 0:\n",
    "        abecedario.pop(i-1)\n",
    "\n",
    "print(abecedario)"
   ]
  },
  {
   "cell_type": "code",
   "execution_count": null,
   "metadata": {},
   "outputs": [],
   "source": []
  }
 ]
}