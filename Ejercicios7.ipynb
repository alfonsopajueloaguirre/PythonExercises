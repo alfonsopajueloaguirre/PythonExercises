{
 "metadata": {
  "language_info": {
   "codemirror_mode": {
    "name": "ipython",
    "version": 3
   },
   "file_extension": ".py",
   "mimetype": "text/x-python",
   "name": "python",
   "nbconvert_exporter": "python",
   "pygments_lexer": "ipython3",
   "version": "3.8.6-final"
  },
  "orig_nbformat": 2,
  "kernelspec": {
   "name": "python3",
   "display_name": "Python 3.8.6 64-bit",
   "metadata": {
    "interpreter": {
     "hash": "43c5a58388dc1a90ccdab80f9d1885ae2bc4594d108887f3c3ac1174c1d46e34"
    }
   }
  }
 },
 "nbformat": 4,
 "nbformat_minor": 2,
 "cells": [
  {
   "source": [
    "# Ejercicios 7\n"
   ],
   "cell_type": "markdown",
   "metadata": {}
  },
  {
   "source": [
    "1. Escribir una función que pida un número entero entre 1 y 10 y guarde en un\n",
    "fichero con el nombre tabla-n.txt la tabla de multiplicar de ese número, donde n\n",
    "es el número introducido.\n"
   ],
   "cell_type": "markdown",
   "metadata": {}
  },
  {
   "cell_type": "code",
   "execution_count": 31,
   "metadata": {},
   "outputs": [],
   "source": [
    "numero = int(input(\"Introduzca un numero entre el 1 y el 10\"))\n",
    "with open('tabla-' + str(numero) + '.txt',\"w\") as fichero:\n",
    "    for i in range(11):\n",
    "        fichero.writelines(str(i * numero) + '\\n')\n"
   ]
  },
  {
   "source": [
    "2. Utilizando el ejercicio anterior crea la tabla de multiplicar del 1 al 10 en distintos\n",
    "archivos y, a continuación, escribe una función que pida un número entero entre\n",
    "1 y 10, lea el fichero tabla-n.txt con la tabla de multiplicar de ese número, donde\n",
    "n es el número introducido, y la muestre por pantalla. Si el fichero no existe debe\n",
    "mostrar un mensaje por pantalla informando de ello.\n"
   ],
   "cell_type": "markdown",
   "metadata": {}
  },
  {
   "cell_type": "code",
   "execution_count": 41,
   "metadata": {},
   "outputs": [
    {
     "output_type": "stream",
     "name": "stdout",
     "text": [
      "0\n5\n10\n15\n20\n25\n30\n35\n40\n45\n50\n\n"
     ]
    }
   ],
   "source": [
    "for x in range(11):\n",
    "    with open('tabla-' + str(x) + '.txt',\"w\") as fichero:\n",
    "        for i in range(11):\n",
    "            fichero.writelines(str(x * i) + '\\n')\n",
    "\n",
    "def tablas_multiplicar():\n",
    "    numero = int(input(\"Introduzca un numero entre el 1 y el 10\"))\n",
    "    if numero < 0 or numero > 10:\n",
    "        print(\"El fichero no existe\")\n",
    "    else:\n",
    "        with open('tabla-' + str(numero) + '.txt',\"r\") as fichero:\n",
    "            print(fichero.read())\n",
    "\n",
    "tablas_multiplicar()"
   ]
  },
  {
   "source": [
    "3. Crea un programa que lea los datos de un fichero de texto, con el mismo formato\n",
    "que el que se muestra más abajo, que transforme cada fila en un diccionario y lo\n",
    "añada a una lista llamada personas. Luego recorre las personas de la lista y para\n",
    "cada persona visualiza los datos de cada persona en un formato aceptable.\n"
   ],
   "cell_type": "markdown",
   "metadata": {}
  },
  {
   "cell_type": "code",
   "execution_count": 104,
   "metadata": {},
   "outputs": [
    {
     "output_type": "stream",
     "name": "stdout",
     "text": [
      "{'Orden': '1', 'Nombre': 'Elena', 'Apellido': 'PÃ©rez', 'Fecha': '05/03/1990\\n'}\n{'Orden': '2', 'Nombre': 'Manuel', 'Apellido': 'Heredia', 'Fecha': '26/12/1972\\n'}\n{'Orden': '3', 'Nombre': 'Rosa', 'Apellido': 'Campos', 'Fecha': '12/06/1981\\n'}\n{'Orden': '4', 'Nombre': 'David', 'Apellido': 'GarcÃ\\xada', 'Fecha': '25/07/2003'}\n"
     ]
    }
   ],
   "source": [
    "personas = list()\n",
    "with open ('personas.txt',\"r\") as fichero:\n",
    "    for x in fichero:\n",
    "        linea_cortada = x.split(\";\")\n",
    "        persona = {\"Orden\" : linea_cortada[0], \"Nombre\" : linea_cortada[1], \"Apellido\" : linea_cortada[2], \"Fecha\" : linea_cortada[3]}\n",
    "        personas.append(persona)\n",
    "\n",
    "for i in range(len(personas)):\n",
    "    print(personas[i])"
   ]
  },
  {
   "cell_type": "code",
   "execution_count": null,
   "metadata": {},
   "outputs": [],
   "source": []
  },
  {
   "source": [
    "4.Crea un programa que implemente un contador de visitas y lo almacene en un\n",
    "archivo llamado contador.txt. Si el fichero no existe o está vacío debe crearse\n",
    "insertar en él el número 0. Si existe, simplemente debe leerse el valor del\n",
    "contador y mostrarse el valor actual del mismo. A continuación, muestra un\n",
    "pequeño menú que permita incrementar o decrementar el contador según la\n",
    "opción elegida. Cada vez que se incremente o decremente debe mostrarse por\n",
    "pantalla y además escribirse en disco."
   ],
   "cell_type": "markdown",
   "metadata": {}
  },
  {
   "cell_type": "code",
   "execution_count": 113,
   "metadata": {},
   "outputs": [
    {
     "output_type": "stream",
     "name": "stdout",
     "text": [
      "\n1.Incrementar\n2.Decrementar\n"
     ]
    },
    {
     "output_type": "error",
     "ename": "ValueError",
     "evalue": "invalid literal for int() with base 10: ''",
     "traceback": [
      "\u001b[1;31m---------------------------------------------------------------------------\u001b[0m",
      "\u001b[1;31mValueError\u001b[0m                                Traceback (most recent call last)",
      "\u001b[1;32m<ipython-input-113-51304cba2363>\u001b[0m in \u001b[0;36m<module>\u001b[1;34m\u001b[0m\n\u001b[0;32m     22\u001b[0m             \u001b[0mfichero\u001b[0m\u001b[1;33m.\u001b[0m\u001b[0mwrite\u001b[0m\u001b[1;33m(\u001b[0m\u001b[0mstr\u001b[0m\u001b[1;33m(\u001b[0m\u001b[0mcontador\u001b[0m\u001b[1;33m)\u001b[0m\u001b[1;33m)\u001b[0m\u001b[1;33m\u001b[0m\u001b[1;33m\u001b[0m\u001b[0m\n\u001b[0;32m     23\u001b[0m \u001b[1;33m\u001b[0m\u001b[0m\n\u001b[1;32m---> 24\u001b[1;33m \u001b[0mmenu\u001b[0m\u001b[1;33m(\u001b[0m\u001b[1;33m)\u001b[0m\u001b[1;33m\u001b[0m\u001b[1;33m\u001b[0m\u001b[0m\n\u001b[0m",
      "\u001b[1;32m<ipython-input-113-51304cba2363>\u001b[0m in \u001b[0;36mmenu\u001b[1;34m()\u001b[0m\n\u001b[0;32m     14\u001b[0m     \u001b[1;32mif\u001b[0m \u001b[0mopcion\u001b[0m \u001b[1;33m==\u001b[0m \u001b[1;36m1\u001b[0m\u001b[1;33m:\u001b[0m\u001b[1;33m\u001b[0m\u001b[1;33m\u001b[0m\u001b[0m\n\u001b[0;32m     15\u001b[0m         \u001b[1;32mwith\u001b[0m \u001b[0mopen\u001b[0m \u001b[1;33m(\u001b[0m\u001b[1;34m'contador.txt'\u001b[0m\u001b[1;33m,\u001b[0m\u001b[1;34m\"r\"\u001b[0m\u001b[1;33m)\u001b[0m \u001b[1;32mas\u001b[0m \u001b[0mfichero\u001b[0m\u001b[1;33m:\u001b[0m\u001b[1;33m\u001b[0m\u001b[1;33m\u001b[0m\u001b[0m\n\u001b[1;32m---> 16\u001b[1;33m             \u001b[0mcontador\u001b[0m \u001b[1;33m=\u001b[0m \u001b[0mint\u001b[0m\u001b[1;33m(\u001b[0m\u001b[0mfichero\u001b[0m\u001b[1;33m.\u001b[0m\u001b[0mread\u001b[0m\u001b[1;33m(\u001b[0m\u001b[1;33m)\u001b[0m\u001b[1;33m)\u001b[0m\u001b[1;33m\u001b[0m\u001b[1;33m\u001b[0m\u001b[0m\n\u001b[0m\u001b[0;32m     17\u001b[0m             \u001b[0mcontador\u001b[0m \u001b[1;33m=\u001b[0m \u001b[0mcontador\u001b[0m \u001b[1;33m+\u001b[0m \u001b[1;36m1\u001b[0m\u001b[1;33m\u001b[0m\u001b[1;33m\u001b[0m\u001b[0m\n\u001b[0;32m     18\u001b[0m             \u001b[0mfichero\u001b[0m\u001b[1;33m.\u001b[0m\u001b[0mwrite\u001b[0m\u001b[1;33m(\u001b[0m\u001b[0mstr\u001b[0m\u001b[1;33m(\u001b[0m\u001b[0mcontador\u001b[0m\u001b[1;33m)\u001b[0m\u001b[1;33m)\u001b[0m\u001b[1;33m\u001b[0m\u001b[1;33m\u001b[0m\u001b[0m\n",
      "\u001b[1;31mValueError\u001b[0m: invalid literal for int() with base 10: ''"
     ]
    }
   ],
   "source": [
    "contador = 0\n",
    "try:\n",
    "    with open ('contador.txt',\"r\") as fichero:\n",
    "        contador = fichero.read()\n",
    "        print(contador)\n",
    "except:\n",
    "    with open('contador.txt',\"w\") as fichero:\n",
    "        fichero.write(str(contador))\n",
    "\n",
    "def menu():\n",
    "    print(\"1.Incrementar\")\n",
    "    print(\"2.Decrementar\")\n",
    "    opcion = int(input())\n",
    "    if opcion == 1:\n",
    "        with open ('contador.txt',\"r\") as fichero:\n",
    "            contador = int(fichero.read())\n",
    "            contador = contador + 1\n",
    "            fichero.write(str(contador))\n",
    "    else:\n",
    "        with open ('contador.txt',\"r\") as fichero:\n",
    "            contador = int(contador) - 1\n",
    "            fichero.write(str(contador))\n",
    "\n",
    "menu()\n"
   ]
  },
  {
   "source": [
    "5. Escribir un programa para gestionar un listín telefónico con los nombres y los\n",
    "teléfonos de los clientes de una empresa. El programa incorporar funciones crear\n",
    "el fichero con el listín si no existe, para consultar el teléfono de un cliente, añadir\n",
    "el teléfono de un nuevo cliente y eliminar el teléfono de un cliente. El listín debe\n",
    "estar guardado en el fichero de texto listin.txt donde el nombre del cliente\n",
    "y su teléfono deben aparecer separados por comas y cada cliente en una línea\n",
    "distinta."
   ],
   "cell_type": "markdown",
   "metadata": {}
  },
  {
   "cell_type": "code",
   "execution_count": 118,
   "metadata": {},
   "outputs": [
    {
     "output_type": "stream",
     "name": "stdout",
     "text": [
      "Falla\n"
     ]
    }
   ],
   "source": [
    "lista_cliente = list()\n",
    "try:\n",
    "    with open ('listin.txt',\"a\")as fichero:\n",
    "        for linea in fichero:\n",
    "            persona = linea.split(\",\")\n",
    "            cliente = {\"Nombre: \" : persona[0], \"Teléfono: \" : persona[1]}\n",
    "            lista_cliente.append(cliente)\n",
    "            menu()\n",
    "except:\n",
    "    with open ('listin.txt',\"x\")as fichero:\n",
    "        menu()\n",
    "\n",
    "def menu():\n",
    "    print(\"1.Crear fichero\")\n",
    "    print(\"2.Consultar telefono\")\n",
    "    print(\"3.Añadir cliente\")\n",
    "    print(\"4.Eliminar cliente\")\n",
    "    "
   ]
  },
  {
   "cell_type": "code",
   "execution_count": null,
   "metadata": {},
   "outputs": [],
   "source": []
  }
 ]
}