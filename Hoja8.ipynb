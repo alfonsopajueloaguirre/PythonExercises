{
 "metadata": {
  "language_info": {
   "codemirror_mode": {
    "name": "ipython",
    "version": 3
   },
   "file_extension": ".py",
   "mimetype": "text/x-python",
   "name": "python",
   "nbconvert_exporter": "python",
   "pygments_lexer": "ipython3",
   "version": "3.8.0-final"
  },
  "orig_nbformat": 2,
  "kernelspec": {
   "name": "python3",
   "display_name": "Python 3.8.0 64-bit",
   "metadata": {
    "interpreter": {
     "hash": "56eb87fbc954af64301db39dd2250c36693ef9dfda1761c1c472f812d1bbbb95"
    }
   }
  }
 },
 "nbformat": 4,
 "nbformat_minor": 2,
 "cells": [
  {
   "source": [
    "# Hoja 8"
   ],
   "cell_type": "markdown",
   "metadata": {}
  },
  {
   "source": [
    "1. Localiza el error en el siguiente bloque de código. Crea una excepción para evitar\n",
    "que el programa se bloquee y además explica en un mensaje al usuario la causa\n",
    "y/o solución:\n"
   ],
   "cell_type": "markdown",
   "metadata": {}
  },
  {
   "cell_type": "code",
   "execution_count": null,
   "metadata": {},
   "outputs": [],
   "source": [
    "try:\n",
    "    resultado = 10/0\n",
    "except ZeroDivisionError:\n",
    "    print(\"No es posible dividir por 0\")"
   ]
  },
  {
   "source": [
    "2. Localiza el error en el siguiente bloque de código. Crea una excepción para evitar\n",
    "que el programa se bloquee y además explica en un mensaje al usuario la causa\n",
    "y/o solución:"
   ],
   "cell_type": "markdown",
   "metadata": {}
  },
  {
   "cell_type": "code",
   "execution_count": null,
   "metadata": {},
   "outputs": [],
   "source": [
    "try:\n",
    "    lista = [1, 2, 3, 4, 5]\n",
    "    lista[10]\n",
    "except IndexError:\n",
    "    print(\"La posicion no existe en la lista\")\n",
    "    print(lista[2])\n"
   ]
  },
  {
   "source": [
    "3. Localiza el error en el siguiente bloque de código. Crea una excepción para evitar\n",
    "que el programa se bloquee y además explica en un mensaje al usuario la causa\n",
    "y/o solución:"
   ],
   "cell_type": "markdown",
   "metadata": {}
  },
  {
   "cell_type": "code",
   "execution_count": null,
   "metadata": {},
   "outputs": [],
   "source": [
    "try:\n",
    "    colores = {'rojo':'red', 'verde':'green', 'negro':'black'}\n",
    "    colores['blanco']\n",
    "except:\n",
    "    print(\"No existe el blanco en este diccionario\")\n"
   ]
  },
  {
   "source": [
    "4. Localiza el error en el siguiente bloque de código. Crea una excepción para evitar\n",
    "que el programa se bloquee y además explica en un mensaje al usuario la causa\n",
    "y/o solución."
   ],
   "cell_type": "markdown",
   "metadata": {}
  },
  {
   "cell_type": "code",
   "execution_count": null,
   "metadata": {},
   "outputs": [],
   "source": [
    "try:\n",
    "    resultado = 15 + \"20\"\n",
    "except TypeError:\n",
    "    resultado = 15 + 20\n",
    "    print(str(resultado))"
   ]
  },
  {
   "source": [
    "5. Realiza una función llamada agregar_una_vez(lista, el) que reciba una lista y un\n",
    "elemento. La función debe añadir el elemento al final de la lista con la condición\n",
    "de no repetir ningún elemento. Además si este elemento ya se encuentra en la\n",
    "lista se debe invocar un error de tipo ValueError que debes capturar y mostrar\n",
    "este mensaje en su lugar:\n",
    "Error: Imposible añadir elementos duplicados => [elemento].\n",
    "Cuando tengas la función intenta añadir los siguiente valores a la lista 10, -2,\n",
    "\"Hola\" y luego muestra su contenido.\n"
   ],
   "cell_type": "markdown",
   "metadata": {}
  },
  {
   "cell_type": "code",
   "execution_count": 1,
   "metadata": {},
   "outputs": [
    {
     "output_type": "stream",
     "name": "stdout",
     "text": [
      "[1, 2, 4, 5, 3]\n"
     ]
    }
   ],
   "source": [
    "def agregar_una_vez(lista,el):\n",
    "    if el in lista:\n",
    "        raise ValueError(\"Error: Imposible añadir elementos duplicados => \" + str(el))\n",
    "    else:\n",
    "        lista.append(el)\n",
    "\n",
    "lista = [1,2,4,5]\n",
    "agregar_una_vez(lista, 3)\n",
    "print(lista)"
   ]
  },
  {
   "cell_type": "code",
   "execution_count": null,
   "metadata": {},
   "outputs": [],
   "source": []
  }
 ]
}