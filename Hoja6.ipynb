{
 "metadata": {
  "language_info": {
   "codemirror_mode": {
    "name": "ipython",
    "version": 3
   },
   "file_extension": ".py",
   "mimetype": "text/x-python",
   "name": "python",
   "nbconvert_exporter": "python",
   "pygments_lexer": "ipython3",
   "version": 3
  },
  "orig_nbformat": 2
 },
 "nbformat": 4,
 "nbformat_minor": 2,
 "cells": [
  {
   "source": [
    "# Hoja 6\n"
   ],
   "cell_type": "markdown",
   "metadata": {}
  },
  {
   "source": [
    "1. Realizar un programa que conste de una clase llamada Alumno que tenga como\n",
    "atributos el nombre y la nota del alumno. Definir los métodos para inicializar sus\n",
    "atributos, imprimirlos y mostrar un mensaje con el resultado de la nota y si ha\n",
    "aprobado o no."
   ],
   "cell_type": "markdown",
   "metadata": {}
  },
  {
   "cell_type": "code",
   "execution_count": null,
   "metadata": {},
   "outputs": [],
   "source": [
    "class ALumno():\n",
    "    pass"
   ]
  }
 ]
}