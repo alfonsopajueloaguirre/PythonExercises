{
 "metadata": {
  "language_info": {
   "codemirror_mode": {
    "name": "ipython",
    "version": 3
   },
   "file_extension": ".py",
   "mimetype": "text/x-python",
   "name": "python",
   "nbconvert_exporter": "python",
   "pygments_lexer": "ipython3",
   "version": "3.8.0-final"
  },
  "orig_nbformat": 2,
  "kernelspec": {
   "name": "python3",
   "display_name": "Python 3.8.0 64-bit",
   "metadata": {
    "interpreter": {
     "hash": "66f2f3eaaab7e032b5de1d93b6de430c470d3bc497a0f4e47ef4a9beaac758cc"
    }
   }
  }
 },
 "nbformat": 4,
 "nbformat_minor": 2,
 "cells": [
  {
   "source": [
    "# Hoja 7"
   ],
   "cell_type": "markdown",
   "metadata": {}
  },
  {
   "source": [
    "1. Escribir una función que pida un número entero entre 1 y 10 y guarde en un fichero con el nombre tabla-n.txt la tabla de multiplicar de ese número, donde n es el número introducido."
   ],
   "cell_type": "markdown",
   "metadata": {}
  },
  {
   "cell_type": "code",
   "execution_count": 2,
   "metadata": {},
   "outputs": [],
   "source": [
    "def tabla_n():\n",
    "    n = int(input(\"Introduzca un numero entre el 1 y el 10: \"))\n",
    "    with open(\"tabla_\" + str(n) + \".txt\", \"w\", encoding=\"utf-8-sig\") as fichero:\n",
    "        for i in range(11):\n",
    "            fichero.writelines(str(i*n) + \"\\n\")\n",
    "\n",
    "tabla_n()\n",
    "    "
   ]
  },
  {
   "source": [
    "2. Utilizando el ejercicio anterior crea la tabla de multiplicar del 1 al 10 en distintos archivos y, a continuación, escribe una función que pida un número entero entre 1 y 10, lea el fichero tabla-n.txt con la tabla de multiplicar de ese número, done n es el número introducido, y la muestre por pantalla. Si el fichero no existe debe mostrar un mensaje por pantalla informando de ello."
   ],
   "cell_type": "markdown",
   "metadata": {}
  },
  {
   "cell_type": "code",
   "execution_count": 7,
   "metadata": {},
   "outputs": [
    {
     "output_type": "stream",
     "name": "stdout",
     "text": [
      "0\n7\n14\n21\n28\n35\n42\n49\n56\n63\n70\n\n"
     ]
    }
   ],
   "source": [
    "def tablas():\n",
    "    for x in range(11):\n",
    "        with open(\"tabla_\" + str(x) + \".txt\", \"w\", encoding=\"utf-8-sig\") as fichero:\n",
    "            for i in range(11):\n",
    "                fichero.writelines(str(x*i) + \"\\n\")\n",
    "\n",
    "def leer_tabla():\n",
    "    n = int(input(\"Introduzca un numero del 1 al 10: \"))\n",
    "    if n<0 or n>10:\n",
    "        print(\"No existe el fichero\")\n",
    "    else:\n",
    "        with open(\"tabla_\" + str(n) + \".txt\", \"r\", encoding=\"utf-8-sig\") as fichero:\n",
    "            print(fichero.read())\n",
    "\n",
    "tablas()\n",
    "leer_tabla()"
   ]
  },
  {
   "source": [
    "3. Crea un programa que lea los datos de un fichero de texto, con el mismo formato que el que se muestra más abajo, que transforme cada fila en un diccionario y lo añada a una lista llamada personas. Luego recorre las personas de la lista y para cada persona visualiza los datos de cada persona en un formato aceptable. "
   ],
   "cell_type": "markdown",
   "metadata": {}
  },
  {
   "cell_type": "code",
   "execution_count": 12,
   "metadata": {},
   "outputs": [
    {
     "output_type": "stream",
     "name": "stdout",
     "text": [
      "{'Orden': '1', 'Nombre': 'Elena', 'Apellido': 'Pérez', 'Fecha': '05/03/1990 \\n'}\n{'Orden': '2', 'Nombre': 'Manuel', 'Apellido': 'Heredia', 'Fecha': '26/12/1972 \\n'}\n{'Orden': '3', 'Nombre': 'Rosa', 'Apellido': 'Campos', 'Fecha': '12/06/1981 \\n'}\n{'Orden': '4', 'Nombre': 'David', 'Apellido': 'García', 'Fecha': '25/07/2003'}\n"
     ]
    }
   ],
   "source": [
    "def leer_dic():\n",
    "    personas = []\n",
    "    with open(\"personas.txt\",\"r\",encoding=\"utf-8-sig\") as fichero:\n",
    "        for x in fichero:\n",
    "            linea_cortada = x.split(\";\")\n",
    "            persona = {\"Orden\": linea_cortada[0], \"Nombre\" : linea_cortada[1], \"Apellido\" : linea_cortada[2], \"Fecha\" : linea_cortada[3]}\n",
    "            personas.append(persona)\n",
    "\n",
    "    for i in range(len(personas)):\n",
    "        print(personas[i])\n",
    "\n",
    "leer_dic()\n"
   ]
  },
  {
   "source": [
    "4. Crea un programa que implemente un contador de visitas y lo almacene en un archivo llamado contador.txt. Si el fichero no existe o está vacío debe crearse insertar en él el número 0. Si existe, simplemente debe leerse el valor del contador y mostrarse el valor actual del mismo. A continuación, muestra un pequeño menú que permita incrementar o decrementar el contador según la opción elegida. Cada vez que se incremente o decremente debe mostrarse por pantalla y además escribirse en disco."
   ],
   "cell_type": "markdown",
   "metadata": {}
  },
  {
   "cell_type": "code",
   "execution_count": null,
   "metadata": {},
   "outputs": [],
   "source": [
    "contador = 0\n",
    "try: \n",
    "    with open(\"visitas.txt\",\"r\",encoding=\"utf-8-sig\") as fichero:\n",
    "        contador = fichero.read()\n",
    "        print(contador)\n",
    "except:\n",
    "    with open(\"visitas.txt\",\"w\",encoding=\"utf-8-sig\") as fichero:\n",
    "        fichero.write(str(contador))\n",
    "\n",
    "def menu():\n",
    "    print(\"1.Incrementar\")\n",
    "    print(\"2.Decrementar\")\n",
    "    opcion = int(input(\"Introduzca una opcion: \"))\n",
    "    if opcion == 1:\n",
    "        with open(\"visitas.txt\",\"r\",encoding=\"utf-8-sig\") as fichero:\n",
    "            contador = int(fichero.read())\n",
    "            contador = contador + 1\n",
    "            fichero.write(str(contador))\n",
    "    else:\n",
    "        with open(\"visitas.txt\",\"r\",encoding=\"utf-8-sig\") as fichero:\n",
    "            contador = int(fichero.read())\n",
    "            contador = contador - 1\n",
    "            fichero.write(str(contador))\n",
    "\n",
    "menud()\n"
   ]
  },
  {
   "source": [
    "5. Escribir un programa para gestionar un listín telefónico con los nombres y los teléfonos de los clientes de una empresa. El programa incorporar funciones crear el fichero con el listín si no existe, para consultar el teléfono de un cliente, añadir el teléfono de un nuevo cliente y eliminar el teléfono de un cliente. El listín debe estar guardado en el fichero de texto listin.txt donde el nombre del cliente y su teléfono deben aparecer separados por comas y cada cliente en una línea distinta."
   ],
   "cell_type": "markdown",
   "metadata": {}
  },
  {
   "cell_type": "code",
   "execution_count": null,
   "metadata": {},
   "outputs": [],
   "source": [
    "lista_cliente = list()\n",
    "try:\n",
    "    with open ('listin.txt',\"a\")as fichero:\n",
    "        for linea in fichero:\n",
    "            persona = linea.split(\",\")\n",
    "            cliente = {\"Nombre: \" : persona[0], \"Teléfono: \" : persona[1]}\n",
    "            lista_cliente.append(cliente)\n",
    "            menu()\n",
    "except:\n",
    "    with open ('listin.txt',\"x\")as fichero:\n",
    "        menu()\n",
    "\n",
    "def menu():\n",
    "    print(\"1.Crear fichero\")\n",
    "    print(\"2.Consultar telefono\")\n",
    "    print(\"3.Añadir cliente\")\n",
    "    print(\"4.Eliminar cliente\")"
   ]
  }
 ]
}