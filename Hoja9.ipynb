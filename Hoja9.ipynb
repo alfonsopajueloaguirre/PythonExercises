{
 "metadata": {
  "language_info": {
   "codemirror_mode": {
    "name": "ipython",
    "version": 3
   },
   "file_extension": ".py",
   "mimetype": "text/x-python",
   "name": "python",
   "nbconvert_exporter": "python",
   "pygments_lexer": "ipython3",
   "version": "3.8.0-final"
  },
  "orig_nbformat": 2,
  "kernelspec": {
   "name": "python3",
   "display_name": "Python 3.8.0 64-bit",
   "metadata": {
    "interpreter": {
     "hash": "66f2f3eaaab7e032b5de1d93b6de430c470d3bc497a0f4e47ef4a9beaac758cc"
    }
   }
  }
 },
 "nbformat": 4,
 "nbformat_minor": 2,
 "cells": [
  {
   "source": [
    "# Hoja de Ejercicios 9"
   ],
   "cell_type": "markdown",
   "metadata": {}
  },
  {
   "source": [
    "1. Escribir una función que aplique un descuento a un precio y otra que aplique el IVA a un precio. Escribir una tercera función que reciba un diccionario con los precios y porcentajes de una cesta de la compra, y una de las funciones anteriores, y utilice la función pasada para aplicar los descuentos o el IVA a los productos de la cesta y devolver el precio final de la cesta."
   ],
   "cell_type": "markdown",
   "metadata": {}
  },
  {
   "cell_type": "code",
   "execution_count": 11,
   "metadata": {},
   "outputs": [
    {
     "output_type": "stream",
     "name": "stdout",
     "text": [
      "El precio tras los descuentos es:  1615.0\nEl precio tras el IVA es:  1985.0\n"
     ]
    }
   ],
   "source": [
    "def descuento(descuento, precio):\n",
    "    return(precio - (precio*descuento)/100)\n",
    "\n",
    "def IVA(impuesto, precio):\n",
    "    return(precio + (precio*impuesto)/100)\n",
    "\n",
    "def comprar(cesta, funcion):\n",
    "    total = 0\n",
    "    for precio, porcentaje in cesta.items():\n",
    "        total += funcion(porcentaje, precio)\n",
    "    return total\n",
    "\n",
    "def main():\n",
    "    cesta1 = {1000:12, 500:10, 300:5}\n",
    "    print(\"El precio tras los descuentos es: \", comprar(cesta1, descuento))\n",
    "    print(\"El precio tras el IVA es: \", comprar(cesta1, IVA))\n",
    "\n",
    "main()\n"
   ]
  },
  {
   "source": [
    "2.Escribir una función que simule una calculadora científica que permita calcular el seno, coseno, tangente, exponencial y logaritmo neperiano. La función preguntará al usuario el valor y la función a aplicar, y mostrará por pantalla una tabla con los enteros de 1 al valor introducido y el resultado de aplicar la función a esos enteros."
   ],
   "cell_type": "markdown",
   "metadata": {}
  },
  {
   "cell_type": "code",
   "execution_count": null,
   "metadata": {},
   "outputs": [],
   "source": [
    "from math import sin, cos, tan, exp, log\n",
    "\n",
    "def apply_function(f, n):\n",
    "    '''\n",
    "    Función que aplica una función a los enteros desde 1 hasta n.\n",
    "    Parámetros:\n",
    "        f: Es una función que recibe un número real y devuelve otro.\n",
    "        n: Es un número entero positivo.\n",
    "    Devuelve:\n",
    "        Un diccionario con los pares i:f(i) para cada valor entero i de 1 a n.\n",
    "    '''\n",
    "    functions = {'sin':sin, 'cos':cos, 'tan':tan, 'exp':exp, 'log':log}\n",
    "    result = {}\n",
    "    for i in range(1, n+1):\n",
    "        result[i] = functions[f](i)\n",
    "    return result\n",
    "\n",
    "def calculator():\n",
    "    '''\n",
    "    Función que aplica una función seleccionada por el usuario (seno, coseno, tangente, exponencial o logarítmo) a la lista de enteros desde 1 hasta n. \n",
    "    Imprime por pantalla una tabla con la secuencia de enteros y el resultado de aplicarles la función introducida.\n",
    "    Parámetros:\n",
    "        f: Es una cadena con la función a aplicar (sin, cos, tan, exp o log).\n",
    "        n: Es un entero positivo.\n",
    "    '''\n",
    "    f = input('Introduce la función a aplicar (sin, cos, tan, exp, log): ')\n",
    "    n = int(input('Introduce un entero positivo: '))\n",
    "    for i, j in apply_function(f, n).items():\n",
    "        print (i, '\\t', j)\n",
    "    return\n",
    "\n",
    "calculator()"
   ]
  },
  {
   "cell_type": "code",
   "execution_count": null,
   "metadata": {},
   "outputs": [],
   "source": [
    "3.Escribir una función que reciba otra función y una lista, y devuelva otra lista con el resultado de aplicar la función dada a cada uno de los elementos de la lista."
   ]
  },
  {
   "cell_type": "code",
   "execution_count": 12,
   "metadata": {},
   "outputs": [
    {
     "output_type": "stream",
     "name": "stdout",
     "text": [
      "[2, 4, 6, 8]\n"
     ]
    }
   ],
   "source": [
    "def suma(valor):\n",
    "    return (valor + 1)\n",
    "def unir(lista, funcion):\n",
    "    resultado = []\n",
    "    for i in lista:\n",
    "        resultado.append(funcion(i))\n",
    "    return resultado\n",
    "print(unir([1,3,5,7], suma))\n"
   ]
  },
  {
   "source": [
    "4.Escribir una función que reciba otra función booleana y una lista, y devuelva otra lista con los elementos de la lista que devuelvan True al aplicarles la función booleana."
   ],
   "cell_type": "markdown",
   "metadata": {}
  },
  {
   "cell_type": "code",
   "execution_count": 14,
   "metadata": {},
   "outputs": [
    {
     "output_type": "stream",
     "name": "stdout",
     "text": [
      "[2, 6, 8]\n"
     ]
    }
   ],
   "source": [
    "def esPar(valor):\n",
    "    if (valor%2==0):\n",
    "        return True\n",
    "    else:\n",
    "        return False\n",
    "        \n",
    "def unirBool(lista, funcion):\n",
    "    resultado = []\n",
    "    for i in lista:\n",
    "        if funcion(i):\n",
    "            resultado.append(i)\n",
    "    return resultado\n",
    "print(unirBool([2,5,6,8,9], esPar))\n"
   ]
  },
  {
   "source": [
    "5.Escribir una función que reciba una frase y devuelva un diccionario con las palabras que contiene y su longitud."
   ],
   "cell_type": "markdown",
   "metadata": {}
  },
  {
   "cell_type": "code",
   "execution_count": 16,
   "metadata": {},
   "outputs": [
    {
     "output_type": "execute_result",
     "data": {
      "text/plain": [
       "{'Hola': 4, 'me': 2, 'llamo': 5, 'Alfonso': 7}"
      ]
     },
     "metadata": {},
     "execution_count": 16
    }
   ],
   "source": [
    "def contar(frase):\n",
    "    fraseSplit = frase.split()\n",
    "    diccionario = {}\n",
    "    for i in fraseSplit:\n",
    "        diccionario[i] = len(i)\n",
    "    return diccionario\n",
    "frase = \"Hola me llamo Alfonso\"\n",
    "contar(frase)"
   ]
  },
  {
   "cell_type": "code",
   "execution_count": null,
   "metadata": {},
   "outputs": [],
   "source": [
    "def length_words(sentence):\n",
    "    '''\n",
    "    Función que recibe una frase y devuelve un diccionario con las palabras que contiene y su longitud.\n",
    "    Parámetros:\n",
    "        sentence: Es una cadena de caracteres con una frase.\n",
    "    Devuelve:\n",
    "        Un diccionario con pares palabra:longitud donde palabra son las palabras que contiene la frase sentence.\n",
    "    '''\n",
    "    return {word:len(word) for word in sentence.split()}\n",
    "\n",
    "print(length_words('Welcome to Python'))"
   ]
  },
  {
   "source": [
    "6.Escribir una función reciba una lista de notas en formato numérico y devuelva la lista de calificaciones (SS, AP, NT, SB, MH) correspondientes a esas notas."
   ],
   "cell_type": "markdown",
   "metadata": {}
  },
  {
   "cell_type": "code",
   "execution_count": 17,
   "metadata": {},
   "outputs": [
    {
     "output_type": "stream",
     "name": "stdout",
     "text": [
      "['SS', 'AP', 'NT', 'NT', 'SB', 'MH']\n"
     ]
    }
   ],
   "source": [
    "def notas(lista):\n",
    "    calificaciones = []\n",
    "    for i in lista:\n",
    "        if i < 5:\n",
    "            calificaciones.append(\"SS\")\n",
    "        elif i < 7:\n",
    "            calificaciones.append(\"AP\")\n",
    "        elif i < 9:\n",
    "            calificaciones.append(\"NT\")\n",
    "        elif i < 10:\n",
    "            calificaciones.append(\"SB\")\n",
    "        else:\n",
    "            calificaciones.append(\"MH\")\n",
    "    return calificaciones        \n",
    "\n",
    "lista1 = [1,5,7,8,9,10]\n",
    "print(notas(lista1))"
   ]
  },
  {
   "cell_type": "code",
   "execution_count": null,
   "metadata": {},
   "outputs": [],
   "source": [
    "def grade(score):\n",
    "    '''\n",
    "    Función que devuelve la calificación correspondiente a una nota.\n",
    "    Parámetros:\n",
    "        score: Es un valor real entre 0 y 10.\n",
    "    Devuelve:\n",
    "        La calificación correspondiente a la nota score.\n",
    "    '''\n",
    "    if score < 5:\n",
    "        return 'SS'\n",
    "    elif score < 7:\n",
    "        return 'AP'\n",
    "    elif score < 9:\n",
    "        return 'NT'\n",
    "    elif score < 10:\n",
    "        return 'SB'\n",
    "    else:\n",
    "        return 'MH'\n",
    "\n",
    "def apply_grade(scores):\n",
    "    '''\n",
    "    Función que devuelve la calificación correspondiente a las notas de una lista dada.\n",
    "    Parámetros:\n",
    "        scores: Es una lista de valores reales entre 0 y 10.\n",
    "    Devuelve\n",
    "        La lista de calificaciones correspondiente a las notas de scores.\n",
    "    '''\n",
    "    return list(map(grade, scores))\n",
    "\n",
    "print(apply_grade([6.5, 5, 3.4, 8.2, 2.1, 9.7, 10]))"
   ]
  },
  {
   "source": [
    "7.Escribir una función reciba un diccionario con las asignaturas y las notas en formato numérico de un alumno y devuelva otro diccionario con las asignaturas en mayúsculas y las calificaciones (SS, AP, NT, SB, MH) correspondientes a las notas."
   ],
   "cell_type": "markdown",
   "metadata": {}
  },
  {
   "cell_type": "code",
   "execution_count": 18,
   "metadata": {},
   "outputs": [
    {
     "output_type": "stream",
     "name": "stdout",
     "text": [
      "{'MATEMÁTICAS': 'AP', 'FÍSICA': 'AP', 'QUÍMICA': 'SS', 'ECONOMÍA': 'NT', 'HISTORIA': 'SB', 'PROGRAMACIÓN': 'MH'}\n"
     ]
    }
   ],
   "source": [
    "def notas(valor):\n",
    "    if valor < 5:\n",
    "        return 'SS'\n",
    "    elif valor < 7:\n",
    "        return 'AP'\n",
    "    elif valor < 9:\n",
    "        return 'NT'\n",
    "    elif valor < 10:\n",
    "        return 'SB'\n",
    "    else:\n",
    "        return 'MH'\n",
    "\n",
    "def boletin(asignaturas):\n",
    "    asignatura = map(str.upper, asignaturas.keys())\n",
    "    nota = map(notas, asignaturas.values())\n",
    "    return dict(zip(asignatura, nota))\n",
    "\n",
    "print(boletin({'Matemáticas':6.5, 'Física':5, 'Química':3.4, 'Economía':8.2, 'Historia':9.7, 'Programación':10}))\n"
   ]
  },
  {
   "cell_type": "code",
   "execution_count": null,
   "metadata": {},
   "outputs": [],
   "source": [
    "8.Escribir una función reciba un diccionario con las asignaturas y las notas en formato numérico de un alumno y devuelva otro diccionario con las asignaturas en mayúsculas y las calificaciones correspondientes a las asignaturas aprobadas"
   ]
  },
  {
   "cell_type": "code",
   "execution_count": 21,
   "metadata": {},
   "outputs": [
    {
     "output_type": "stream",
     "name": "stdout",
     "text": [
      "{'MATEMÁTICAS': 'AP', 'FÍSICA': 'AP', 'ECONOMÍA': 'NT', 'HISTORIA': 'SB', 'PROGRAMACIÓN': 'MH'}\n"
     ]
    }
   ],
   "source": [
    "def notas(valor):\n",
    "    if valor < 5:\n",
    "        return 'SS'\n",
    "    elif valor < 7:\n",
    "        return 'AP'\n",
    "    elif valor < 9:\n",
    "        return 'NT'\n",
    "    elif valor < 10:\n",
    "        return 'SB'\n",
    "    else:\n",
    "        return 'MH'\n",
    "\n",
    "def aprobadas(subject):\n",
    "    return (subject[1] >= 5)\n",
    "\n",
    "def boletin(asignaturas):\n",
    "    aprobado = dict(filter(aprobadas, asignaturas.items()))\n",
    "    asignatura = map(str.upper, aprobado.keys())\n",
    "    nota = map(notas, aprobado.values())\n",
    "    return dict(zip(asignatura, nota))\n",
    "\n",
    "print(boletin({'Matemáticas':6.5, 'Física':5, 'Química':3.4, 'Economía':8.2, 'Historia':9.7, 'Programación':10}))"
   ]
  },
  {
   "source": [
    "9.Construir una función que permita hacer búsqueda de inmuebles en función de un presupuesto dado. La función recibirá como entrada la lista de inmuebles y un precio, y devolverá otra lista con los inmuebles cuyo precio sea menor o igual que el dado. Los inmuebles de la lista que se devuelva deben incorporar un nuevo par a cada diccionario con el precio del inmueble, donde el precio de un inmueble se calcula con las siguientes fórmulas, en función de la zona:"
   ],
   "cell_type": "markdown",
   "metadata": {}
  },
  {
   "cell_type": "code",
   "execution_count": 27,
   "metadata": {},
   "outputs": [
    {
     "output_type": "stream",
     "name": "stdout",
     "text": [
      "[{'año': 1980, 'metros': 120, 'habitaciones': 4, 'garaje': False, 'zona': 'A', 'precio': 84000.0}, {'año': 2015, 'metros': 90, 'habitaciones': 2, 'garaje': False, 'zona': 'A', 'precio': 95000.0}]\n"
     ]
    }
   ],
   "source": [
    "\n",
    "pisos = [{'año': 2000, 'metros': 100, 'habitaciones': 3, 'garaje': True, 'zona': 'A'}, {'año': 2012, 'metros': 60, 'habitaciones': 2, 'garaje': True, 'zona': 'B'}, {'año': 1980, 'metros': 120, 'habitaciones': 4, 'garaje': False, 'zona': 'A'}, {'año': 2005, 'metros': 75, 'habitaciones': 3, 'garaje': True, 'zona': 'B'}, {'año': 2015, 'metros': 90, 'habitaciones': 2, 'garaje': False, 'zona': 'A'}]\n",
    "\n",
    "def añadir_precio(piso):\n",
    "    precio = (piso['metros'] * 1000 + piso['habitaciones'] * 5000 + int(piso['garaje']) * 15000) * (1 - (2020 - piso['año']) / 100)\n",
    "    if piso['zona'] == 'B':\n",
    "        precio *= 1.5\n",
    "    piso['precio'] = precio\n",
    "    return piso\n",
    "\n",
    "\n",
    "def buscar(lista, presupuesto):\n",
    "    def puede_comprar(piso):\n",
    "        return piso['precio'] <= presupuesto\n",
    "    \n",
    "    return list(filter(puede_comprar, map(añadir_precio, pisos)))\n",
    "\n",
    "print(buscar(pisos,100000))\n",
    "\n"
   ]
  },
  {
   "source": [
    "10.Escribir una función que reciba una muestra de números y devuelva los valores atípicos, es decir, los valores cuya puntuación típica sea mayor que 3 o menor que -3. Nota: La puntuación típica de un valor se obtiene restando la media y dividiendo por la desviación típica de la muestra."
   ],
   "cell_type": "markdown",
   "metadata": {}
  },
  {
   "cell_type": "code",
   "execution_count": 33,
   "metadata": {},
   "outputs": [
    {
     "output_type": "stream",
     "name": "stdout",
     "text": [
      "[1000]\n"
     ]
    }
   ],
   "source": [
    "from statistics import mean, stdev\n",
    "\n",
    "def atipico(muestra):\n",
    "    media = mean(muestra)\n",
    "    desviacion = stdev(muestra)\n",
    "    def f(n):\n",
    "        puntuacion = (n - media) / desviacion\n",
    "        return (puntuacion < -3) or (puntuacion > 3)\n",
    "    return f\n",
    "\n",
    "def datos_atipicos(muestra):\n",
    "    return list(filter(atipico(muestra), muestra))\n",
    "\n",
    "print(datos_atipicos([1, 2, 3, 4, 5, 6, 7, 8, 9, 10, 1000]))\n"
   ]
  },
  {
   "cell_type": "code",
   "execution_count": null,
   "metadata": {},
   "outputs": [],
   "source": []
  }
 ]
}