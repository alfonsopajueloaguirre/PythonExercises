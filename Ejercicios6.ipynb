{
 "metadata": {
  "language_info": {
   "codemirror_mode": {
    "name": "ipython",
    "version": 3
   },
   "file_extension": ".py",
   "mimetype": "text/x-python",
   "name": "python",
   "nbconvert_exporter": "python",
   "pygments_lexer": "ipython3",
   "version": "3.8.6-final"
  },
  "orig_nbformat": 2,
  "kernelspec": {
   "name": "python3",
   "display_name": "Python 3.8.6 64-bit",
   "metadata": {
    "interpreter": {
     "hash": "43c5a58388dc1a90ccdab80f9d1885ae2bc4594d108887f3c3ac1174c1d46e34"
    }
   }
  }
 },
 "nbformat": 4,
 "nbformat_minor": 2,
 "cells": [
  {
   "source": [
    "# Ejercicios 6\n"
   ],
   "cell_type": "markdown",
   "metadata": {}
  },
  {
   "source": [
    "1. Realizar un programa que conste de una clase llamada Alumno que tenga como\n",
    "atributos el nombre y la nota del alumno. Definir los métodos para inicializar sus\n",
    "atributos, imprimirlos y mostrar un mensaje con el resultado de la nota y si ha\n",
    "aprobado o no"
   ],
   "cell_type": "markdown",
   "metadata": {}
  },
  {
   "cell_type": "code",
   "execution_count": 12,
   "metadata": {},
   "outputs": [
    {
     "output_type": "stream",
     "name": "stdout",
     "text": [
      "Alumno con nombre Juan ha suspendido con un 3\nNombre de alumno: Juan\nNota del alumno: 3\n"
     ]
    }
   ],
   "source": [
    "class Alumno:\n",
    "    def __init__(self,nombre,nota):\n",
    "        self.nombre = nombre\n",
    "        self.nota = nota\n",
    "\n",
    "    def imprimir (self):\n",
    "        print(\"Nombre de alumno: \" + self.nombre)\n",
    "        print(\"Nota del alumno: \" + str(self.nota))\n",
    "\n",
    "    def aprobado (self):\n",
    "        if self.nota > 5:\n",
    "            print(\"Alumno con nombre \" + self.nombre + \" ha aprobado con un \" + str(self.nota))\n",
    "        else:\n",
    "            print(\"Alumno con nombre \" + self.nombre + \" ha suspendido con un \" + str(self.nota))\n",
    "\n",
    "    \n",
    "alumno1 = Alumno(\"Juan\",3)\n",
    "alumno1.aprobado()\n",
    "alumno1.imprimir()"
   ]
  },
  {
   "source": [
    "2. Realizar un programa que tenga una clase Persona con las siguientes\n",
    "características. La clase tendrá como atributos el nombre y la edad de una\n",
    "persona. Implementar los métodos necesarios para inicializar los atributos,\n",
    "mostrar los datos e indicar si la persona es mayor de edad o no.\n"
   ],
   "cell_type": "markdown",
   "metadata": {}
  },
  {
   "cell_type": "code",
   "execution_count": 15,
   "metadata": {},
   "outputs": [
    {
     "output_type": "stream",
     "name": "stdout",
     "text": [
      "Nombre de la persona: Ana Edad: 15\nAna no es mayor de edad\n"
     ]
    }
   ],
   "source": [
    "class Persona:\n",
    "    def __init__(self,nombre,edad):\n",
    "        self.nombre = nombre\n",
    "        self.edad = edad\n",
    "\n",
    "    def imprimir(self):\n",
    "        print(\"Nombre de la persona: \" + self.nombre + \" Edad: \" + str(self.edad))\n",
    "\n",
    "    def mayor_edad(self):\n",
    "        if self.edad > 18:\n",
    "            print(self.nombre + \" es mayor de edad\")\n",
    "        else:\n",
    "            print(self.nombre + \" no es mayor de edad\")\n",
    "\n",
    "persona1 = Persona(\"Ana\",15)\n",
    "persona1.imprimir()\n",
    "persona1.mayor_edad()"
   ]
  },
  {
   "source": [
    "3. Desarrollar un programa que cargue los datos de un triángulo. Implementar una\n",
    "clase con los métodos para inicializar los atributos, imprimir el valor del lado con\n",
    "un tamaño mayor y el tipo de triángulo que es (equilátero, isósceles o escaleno)."
   ],
   "cell_type": "markdown",
   "metadata": {}
  },
  {
   "cell_type": "code",
   "execution_count": 9,
   "metadata": {},
   "outputs": [
    {
     "output_type": "stream",
     "name": "stdout",
     "text": [
      "4\nTriángulo equilatero\n"
     ]
    }
   ],
   "source": [
    "class triangulo:\n",
    "    def __init__(self,lado1,lado2,lado3):\n",
    "        self.lado1 = lado1\n",
    "        self.lado2 = lado2\n",
    "        self.lado3 = lado3\n",
    "\n",
    "    def mayor(self):\n",
    "        if self.lado1 > (self.lado2 and self.lado3):\n",
    "            print(self.lado1)\n",
    "        elif self.lado2 > (self.lado1 and self.lado3):\n",
    "            print(self.lado2)\n",
    "        else:\n",
    "            print(self.lado3)\n",
    "\n",
    "    def tipo(self):\n",
    "        if self.lado1 == self.lado2 == self.lado3:\n",
    "            print(\"Triángulo equilatero\")\n",
    "        elif self.lado1 == self.lado2 or self.lado1 == self.lado3 or self.lado2 == self.lado3:\n",
    "            print(\"Triángulo isosceles\")\n",
    "        else:\n",
    "            print(\"Triángulo escaleno\")\n",
    "        \n",
    "tri = triangulo(4,4,4)\n",
    "tri.mayor()\n",
    "tri.tipo()\n",
    "        \n",
    "\n"
   ]
  },
  {
   "source": [
    "4. Realizar un programa en el cual se declaren dos valores enteros por teclado\n",
    "utilizando el método __init__. Calcular después la suma, resta, multiplicación y\n",
    "división. Utilizar un método para cada una e imprimir los resultados obtenidos.\n",
    "Llamar a la clase Calculadora.\n"
   ],
   "cell_type": "markdown",
   "metadata": {}
  },
  {
   "cell_type": "code",
   "execution_count": 10,
   "metadata": {},
   "outputs": [
    {
     "output_type": "stream",
     "name": "stdout",
     "text": [
      "10\n0\n25\n1.0\n"
     ]
    }
   ],
   "source": [
    "class Calculadora:\n",
    "    def __init__(self,numero1,numero2):\n",
    "        self.numero1 = numero1\n",
    "        self.numero2 = numero2\n",
    "\n",
    "    def suma (self):\n",
    "        print(self.numero1 + self.numero2)\n",
    "\n",
    "    def resta (self):\n",
    "        print(self.numero1 - self.numero2)\n",
    "\n",
    "    def multiplicacion(self):\n",
    "        print(self.numero1 * self.numero2)\n",
    "\n",
    "    def division(self):\n",
    "        print(self.numero1 / self.numero2)\n",
    "\n",
    "\n",
    "numero1 = int(input(\"Numero 1\"))\n",
    "numero2 = int(input(\"Numero 2\"))\n",
    "\n",
    "cal = Calculadora(numero1,numero2)\n",
    "cal.suma()\n",
    "cal.resta()\n",
    "cal.multiplicacion()\n",
    "cal.division()\n"
   ]
  },
  {
   "source": [
    "5. Realizar una clase que administre una agenda. Se debe almacenar para cada\n",
    "contacto el nombre, el teléfono y el email. Además deberá mostrar un menú con\n",
    "las siguientes opciones:"
   ],
   "cell_type": "markdown",
   "metadata": {}
  },
  {
   "cell_type": "code",
   "execution_count": null,
   "metadata": {},
   "outputs": [],
   "source": [
    "class Contacto:\n",
    "    def __init__(self,nombre,telefono,email):\n",
    "        self.nombre = nombre\n",
    "        self.telefono = telefono\n",
    "        self.email = email\n",
    "\n",
    "    def menu ():\n",
    "        print(\"1.Añadir contacto\")\n",
    "        print(\"2.Lista de contactos\")\n",
    "        print(\"3.Buscar contacto\")\n",
    "        print(\"4.Editar contacto\")\n",
    "        print(\"5.Cerrar agenda\")\n",
    "\n",
    "agenda = [Contacto]\n",
    "\n"
   ]
  },
  {
   "source": [
    "6. En un banco tienen clientes que pueden hacer depósitos y extracciones de\n",
    "dinero. El banco requiere también al final del día calcular la cantidad de dinero\n",
    "que se ha depositado. Se deberán crear dos clases, la clase cliente y la clase\n",
    "banco. La clase cliente tendrá los atributos nombre y cantidad y los métodos\n",
    "__init__, depositar, extraer, mostrar_total. La clase banco tendrá como atributos\n",
    "3 objetos de la clase cliente y los métodos __init__, operar y deposito_total. "
   ],
   "cell_type": "markdown",
   "metadata": {}
  },
  {
   "cell_type": "code",
   "execution_count": null,
   "metadata": {},
   "outputs": [],
   "source": [
    "class Cliente:\n",
    "    def __init__(self,nombre,cantidad):\n",
    "        self.nombre = nombre\n",
    "        self.cantidad = cantidad\n",
    "\n",
    "    def depositar (self,camtidad_guardar):\n",
    "        self.cantidad = self.cantidad - cantidad_guardar\n",
    "\n",
    "    def extraer (self,cantidad_sacar):\n",
    "        self.cantidad = self.cantidad + cantidad_sacar\n",
    "\n",
    "    def mostrar_total (self):\n",
    "        print(self.cantidad)\n",
    "\n",
    "class Banco:\n",
    "    def __init__(self,cliente1,cliente2,cliente3):\n",
    "        self.cliente1 = cliente1\n",
    "        self.cliente2 = cliente2\n",
    "        self.cliente3 = cliente3\n",
    "\n",
    "\n",
    "    def operar(self,cliente,ope):\n",
    "        if cliente == self.cliente1 or cliente == self.cliente2 or cliente == self.cliente3:\n",
    "            if ope == \"extraer\":\n",
    "                self\n",
    "        else:\n",
    "            print(cliente.nombre + \" no pertenece a este banco.\")\n",
    "\n",
    "\n",
    "    def deposito_total(self):\n",
    "        print(self.cliente1.cantidad + self.cliente2.cantidad + self.cliente3.cantidad)\n",
    "\n"
   ]
  }
 ]
}